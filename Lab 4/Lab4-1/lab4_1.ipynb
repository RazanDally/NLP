{
  "cells": [
    {
      "cell_type": "code",
      "execution_count": 53,
      "id": "14c90399",
      "metadata": {
        "deletable": false,
        "editable": false,
        "jupyter": {
          "outputs_hidden": true,
          "source_hidden": true
        },
        "colab": {
          "base_uri": "https://localhost:8080/"
        },
        "id": "14c90399",
        "outputId": "515b3edb-ab2a-45b5-bdb9-d4f5d9662b61"
      },
      "outputs": [
        {
          "output_type": "stream",
          "name": "stdout",
          "text": [
            "\n"
          ]
        }
      ],
      "source": [
        "# Please do not change this cell because some hidden tests might depend on it.\n",
        "import os\n",
        "\n",
        "# Otter grader does not handle ! commands well, so we define and use our\n",
        "# own function to execute shell commands.\n",
        "def shell(commands, warn=True):\n",
        "    \"\"\"Executes the string `commands` as a sequence of shell commands.\n",
        "\n",
        "       Prints the result to stdout and returns the exit status.\n",
        "       Provides a printed warning on non-zero exit status unless `warn`\n",
        "       flag is unset.\n",
        "    \"\"\"\n",
        "    file = os.popen(commands)\n",
        "    print (file.read().rstrip('\\n'))\n",
        "    exit_status = file.close()\n",
        "    if warn and exit_status != None:\n",
        "        print(f\"Completed with errors. Exit status: {exit_status}\\n\")\n",
        "    return exit_status\n",
        "\n",
        "shell(\"\"\"\n",
        "ls requirements.txt >/dev/null 2>&1\n",
        "if [ ! $? = 0 ]; then\n",
        " rm -rf .tmp\n",
        " git clone https://github.com/cs236299-2023-spring/lab4-1.git .tmp\n",
        " mv .tmp/tests ./\n",
        " mv .tmp/requirements.txt ./\n",
        " rm -rf .tmp\n",
        "fi\n",
        "pip install -q -r requirements.txt\n",
        "\"\"\")"
      ]
    },
    {
      "cell_type": "code",
      "execution_count": 54,
      "id": "8ed136c6",
      "metadata": {
        "deletable": false,
        "editable": false,
        "id": "8ed136c6"
      },
      "outputs": [],
      "source": [
        "# Initialize Otter\n",
        "import otter\n",
        "grader = otter.Notebook()"
      ]
    },
    {
      "cell_type": "markdown",
      "id": "f4640c82",
      "metadata": {
        "tags": [
          "remove_for_latex"
        ],
        "id": "f4640c82"
      },
      "source": [
        "# Course 236299\n",
        "## Lab 4-1 - First-order logic, lambda calculus, semantic parsing"
      ]
    },
    {
      "cell_type": "markdown",
      "id": "c6c96b71",
      "metadata": {
        "id": "c6c96b71"
      },
      "source": [
        "In this lab, you'll use first-order logic (FOL), augmented by the lambda calculus of functions, as the formal representation of meaning for a language in the by-now-familiar air travel (ATIS) domain."
      ]
    },
    {
      "cell_type": "markdown",
      "id": "c7adf717",
      "metadata": {
        "id": "c7adf717"
      },
      "source": [
        "# Preparation"
      ]
    },
    {
      "cell_type": "code",
      "execution_count": 55,
      "id": "b799e07d",
      "metadata": {
        "deletable": false,
        "editable": false,
        "id": "b799e07d"
      },
      "outputs": [],
      "source": [
        "import os\n",
        "import pprint\n",
        "import sys\n",
        "import wget\n",
        "\n",
        "import nltk"
      ]
    },
    {
      "cell_type": "code",
      "execution_count": 56,
      "id": "1067d5f7",
      "metadata": {
        "id": "1067d5f7"
      },
      "outputs": [],
      "source": [
        "# Download code for augmented grammars\n",
        "remote_script_dir = \"https://raw.githubusercontent.com/nlp-236299/data/master/scripts/\"\n",
        "local_script_dir = \"./scripts/\"\n",
        "\n",
        "# Create and search the local script directory\n",
        "os.makedirs(local_script_dir, exist_ok=True)\n",
        "sys.path.insert(1, local_script_dir)\n",
        "\n",
        "# Download files to script directory\n",
        "wget.download(remote_script_dir + \"trees/transform.py\", out=local_script_dir)\n",
        "\n",
        "# Import functions for transforming augmented grammars\n",
        "import transform as xform"
      ]
    },
    {
      "cell_type": "markdown",
      "id": "b331a5db",
      "metadata": {
        "deletable": false,
        "editable": false,
        "id": "b331a5db"
      },
      "source": [
        "# First-order logic\n",
        "\n",
        "Recall that FOL formulas are composed of constants, variables, predicates over them, logical operators over the predicates, and quantifiers.\n",
        "\n",
        "A first-order model describes what the constants denote, and what values the predicates are true of. For example, a model of the flight world, might consist of the following:\n",
        "\n",
        "* **Constants**:\n",
        "    * (places) Boston, New York, Tel Aviv\n",
        "    * (times) Morning, Evening\n",
        "    * (flights) DL10, DL11, DL13, LY01, LY12\n",
        "    \n",
        "* **Predicates**:\n",
        "    * *Flight*: DL10, DL11, DL13, LY01, LY12\n",
        "    * *Origin*:  (DL10, Boston), (DL11, Boston), (DL13, New York), (LY01, Tel Aviv), (LY12, New York)\n",
        "    * *Destination*:  (DL10, New York), (DL11, Tel Aviv), (DL13, Boston), (LY01, New York), (LY12, Tel Aviv)\n",
        "    * *DepartureTime*:  (DL10, Morning), (DL11, Evening), (DL13, Evening), (LY01, Evening), (LY12, Morning)\n",
        "    * *ArrivalTime*:  (DL10, Morning), (DL11, Morning), (DL13, Evening), (LY12, Evening)\n",
        "\n",
        "Using this model, we can express propositions such as \"DL13 is a flight\" and \"DL13 departs in the evening\" with formulas of FOL:\n",
        "* Flight(DL13)\n",
        "* DepartureTime(DL13, Evening)\n",
        "\n",
        "We can also combine expressions using Boolean operators to express statements like \"DL13 departs from Boston in the evening\":\n",
        "* DepartureTime(DL13, Evening) $\\land$ Origin(DL13, Boston)\n",
        "\n",
        "We use variables to refer to objects that are not specified. Variables are quantified to either express the existence of an object or to refer to all objects:\n",
        "\n",
        "\\begin{align*}\n",
        "1. \\ \\ &\\exists x. Flight(x) \\land Origin(x, Boston)  \\\\\n",
        "2. \\ \\ &\\forall x. Flight(x) \\implies Origin(x, Boston)\n",
        "\\end{align*}\n",
        "\n",
        "Write a plain English description of the meaning (a \"gloss\") for each of the two expressions above:\n",
        "\n",
        "<!--\n",
        "BEGIN QUESTION\n",
        "name: gloss_samples\n",
        "-->"
      ]
    },
    {
      "cell_type": "code",
      "execution_count": 57,
      "id": "279f334b",
      "metadata": {
        "id": "279f334b"
      },
      "outputs": [],
      "source": [
        "# TODO -- Provide an English gloss in the form of a string for each formula\n",
        "gloss1 = 'there is a flight that departs from boston'\n",
        "gloss2 = 'every flight departs from boston'"
      ]
    },
    {
      "cell_type": "code",
      "execution_count": 58,
      "id": "12976542",
      "metadata": {
        "deletable": false,
        "editable": false,
        "colab": {
          "base_uri": "https://localhost:8080/",
          "height": 46
        },
        "id": "12976542",
        "outputId": "e4088a49-d642-4d2d-b495-97ca94cf66a1"
      },
      "outputs": [
        {
          "output_type": "execute_result",
          "data": {
            "text/plain": [
              "\n",
              "    All tests passed!\n",
              "    "
            ],
            "text/html": [
              "\n",
              "    \n",
              "    \n",
              "        <p>All tests passed!</p>\n",
              "    \n",
              "    "
            ]
          },
          "metadata": {},
          "execution_count": 58
        }
      ],
      "source": [
        "grader.check(\"gloss_samples\")"
      ]
    },
    {
      "cell_type": "markdown",
      "id": "9d0219a0",
      "metadata": {
        "deletable": false,
        "editable": false,
        "id": "9d0219a0"
      },
      "source": [
        "Determine the truth values of the above propositions under the model of the flight world given above:\n",
        "\n",
        "<!--\n",
        "BEGIN QUESTION\n",
        "name: truth_samples\n",
        "-->"
      ]
    },
    {
      "cell_type": "code",
      "execution_count": 59,
      "id": "3110c244",
      "metadata": {
        "id": "3110c244"
      },
      "outputs": [],
      "source": [
        "# TODO -- Fill in the truth values for the two propositions as Python booleans\n",
        "statement1 = True\n",
        "statement2 = False"
      ]
    },
    {
      "cell_type": "code",
      "execution_count": 60,
      "id": "73e0d39a",
      "metadata": {
        "deletable": false,
        "editable": false,
        "colab": {
          "base_uri": "https://localhost:8080/",
          "height": 46
        },
        "id": "73e0d39a",
        "outputId": "5b5f0728-1729-4102-8f55-536c5905ce54"
      },
      "outputs": [
        {
          "output_type": "execute_result",
          "data": {
            "text/plain": [
              "\n",
              "    All tests passed!\n",
              "    "
            ],
            "text/html": [
              "\n",
              "    \n",
              "    \n",
              "        <p>All tests passed!</p>\n",
              "    \n",
              "    "
            ]
          },
          "metadata": {},
          "execution_count": 60
        }
      ],
      "source": [
        "grader.check(\"truth_samples\")"
      ]
    },
    {
      "cell_type": "markdown",
      "id": "c80def38",
      "metadata": {
        "id": "c80def38"
      },
      "source": [
        "## Implementing a model of the flight world\n",
        "We will need a Python implementation of the flight world. Our constants will be string objects:"
      ]
    },
    {
      "cell_type": "code",
      "execution_count": 61,
      "id": "da056939",
      "metadata": {
        "id": "da056939"
      },
      "outputs": [],
      "source": [
        "# Constants\n",
        "\n",
        "Boston = \"Boston\"\n",
        "NewYork = \"New York\"\n",
        "TelAviv = \"Tel Aviv\"\n",
        "\n",
        "DL10 = \"DL10\"\n",
        "DL13 = \"DL13\"\n",
        "LY01 = \"LY01\"\n",
        "LY12 = \"LY12\"\n",
        "DL11 = \"DL11\"\n",
        "\n",
        "Morning = \"Morning\"\n",
        "Evening = \"Evening\""
      ]
    },
    {
      "cell_type": "markdown",
      "id": "29ede128",
      "metadata": {
        "id": "29ede128"
      },
      "source": [
        "Our predicates will be sets of objects (for unary predicates, which express _properties_) or tuples (for binary predicates, which express _relations_). We have defined some of the predicates below."
      ]
    },
    {
      "cell_type": "code",
      "execution_count": 62,
      "id": "9d2a136f",
      "metadata": {
        "id": "9d2a136f"
      },
      "outputs": [],
      "source": [
        "# Predicates\n",
        "\n",
        "# Properties\n",
        "Object = {Boston, NewYork, TelAviv, DL10, DL11, DL13, LY01, LY12, Morning, Evening}\n",
        "Flight = {DL10, DL11, DL13, LY01, LY12}\n",
        "# Relations\n",
        "Origin = {\n",
        "    (DL10, Boston),\n",
        "    (DL11, Boston),\n",
        "    (DL13, NewYork),\n",
        "    (LY01, TelAviv),\n",
        "    (LY12, NewYork),\n",
        "}\n",
        "Destination = {\n",
        "    (DL10, NewYork),\n",
        "    (DL11, TelAviv),\n",
        "    (DL13, Boston),\n",
        "    (LY01, NewYork),\n",
        "    (LY12, TelAviv),\n",
        "}"
      ]
    },
    {
      "cell_type": "markdown",
      "id": "5dd0b6a4",
      "metadata": {
        "deletable": false,
        "editable": false,
        "id": "5dd0b6a4"
      },
      "source": [
        "Complete the definition of the predicates by defining `DepartureTime` and `ArrivalTime` according to the flight world given above. Assume that the first element of the tuple is the flight object and the second element is the time.\n",
        "\n",
        "<!--\n",
        "BEGIN QUESTION\n",
        "name: finish_world\n",
        "-->"
      ]
    },
    {
      "cell_type": "code",
      "execution_count": 63,
      "id": "e7b4c2a3",
      "metadata": {
        "id": "e7b4c2a3"
      },
      "outputs": [],
      "source": [
        "# TODO\n",
        "DepartureTime = {(DL10, Morning), (DL11, Evening), (DL13, Evening), (LY01, Evening), (LY12, Morning)}\n",
        "ArrivalTime = {(DL10, Morning), (DL11, Morning), (DL13, Evening), (LY12, Evening)}"
      ]
    },
    {
      "cell_type": "code",
      "execution_count": 64,
      "id": "7b910716",
      "metadata": {
        "deletable": false,
        "editable": false,
        "colab": {
          "base_uri": "https://localhost:8080/",
          "height": 46
        },
        "id": "7b910716",
        "outputId": "700238b7-5231-47c7-8c65-36b98aeec86e"
      },
      "outputs": [
        {
          "output_type": "execute_result",
          "data": {
            "text/plain": [
              "\n",
              "    All tests passed!\n",
              "    "
            ],
            "text/html": [
              "\n",
              "    \n",
              "    \n",
              "        <p>All tests passed!</p>\n",
              "    \n",
              "    "
            ]
          },
          "metadata": {},
          "execution_count": 64
        }
      ],
      "source": [
        "grader.check(\"finish_world\")"
      ]
    },
    {
      "cell_type": "markdown",
      "id": "00a3de0d",
      "metadata": {
        "id": "00a3de0d"
      },
      "source": [
        "Given this implementation, we can determine truth values of simple FOL propositions. To check whether DL10 has an origin of Boston, that is, that the proposition $Origin(DL10, Boston)$ is true, we use set membership:"
      ]
    },
    {
      "cell_type": "code",
      "execution_count": 65,
      "id": "7f5bbab7",
      "metadata": {
        "colab": {
          "base_uri": "https://localhost:8080/"
        },
        "id": "7f5bbab7",
        "outputId": "550917de-6752-4770-d5dd-166e524439bc"
      },
      "outputs": [
        {
          "output_type": "execute_result",
          "data": {
            "text/plain": [
              "True"
            ]
          },
          "metadata": {},
          "execution_count": 65
        }
      ],
      "source": [
        "(DL10, Boston) in Origin"
      ]
    },
    {
      "cell_type": "markdown",
      "id": "53bb1895",
      "metadata": {
        "deletable": false,
        "editable": false,
        "id": "53bb1895"
      },
      "source": [
        "Next, construct a Python expression that expresses the proposition that DL10 has an origin of Boston and a destination of New York. Name it `prop1`. We can then use it to test whether the proposition is true.\n",
        "\n",
        "<!--\n",
        "BEGIN QUESTION\n",
        "name: dl10_endpoints\n",
        "-->"
      ]
    },
    {
      "cell_type": "code",
      "execution_count": 66,
      "id": "2e48a453",
      "metadata": {
        "colab": {
          "base_uri": "https://localhost:8080/"
        },
        "id": "2e48a453",
        "outputId": "cd4acbe4-b298-4b1e-aaeb-35d68f9abb4a"
      },
      "outputs": [
        {
          "output_type": "stream",
          "name": "stdout",
          "text": [
            "True\n"
          ]
        }
      ],
      "source": [
        "# TODO -- Construct a Python expression that tests the proposition\n",
        "prop1 = ((DL10, Boston) in Origin) and (DL10, NewYork) in Destination\n",
        "print(prop1)"
      ]
    },
    {
      "cell_type": "code",
      "execution_count": 67,
      "id": "45763ed4",
      "metadata": {
        "deletable": false,
        "editable": false,
        "colab": {
          "base_uri": "https://localhost:8080/",
          "height": 46
        },
        "id": "45763ed4",
        "outputId": "1ebade7e-f656-4579-f4e4-45c6d17367ae"
      },
      "outputs": [
        {
          "output_type": "execute_result",
          "data": {
            "text/plain": [
              "\n",
              "    All tests passed!\n",
              "    "
            ],
            "text/html": [
              "\n",
              "    \n",
              "    \n",
              "        <p>All tests passed!</p>\n",
              "    \n",
              "    "
            ]
          },
          "metadata": {},
          "execution_count": 67
        }
      ],
      "source": [
        "grader.check(\"dl10_endpoints\")"
      ]
    },
    {
      "cell_type": "markdown",
      "id": "1739915d",
      "metadata": {
        "deletable": false,
        "editable": false,
        "id": "1739915d"
      },
      "source": [
        "# Lambda calculus\n",
        "The lambda calculus is a simple notation for expressing functions. By embedding FOL in the lambda calculus, it allows us to build functions over propositions of various sorts, and build up propositions from component parts by applying those functions.\n",
        "\n",
        "For example, $\\lambda x\\ldotp Origin(x,NewYork)$ is a function from entities to truth values, true just in case the entity is a thing (presumably a flight, though that isn't checked) whose origin is New York. This expression thus defines a _property_, the property of originating in New York.\n",
        "\n",
        "These lambda functions can be applied to arguments. Applying the expression above to $DL10$, gives us the expression $(\\lambda x\\ldotp Origin(x,NewYork)) (DL10)$. This can be simplified through the normal lambda calculus rules ([$\\beta$-reduction](https://en.wikipedia.org/wiki/Lambda_calculus#β-reduction)) to $Origin(DL10, NewYork)$, expressing the proposition that flight DL10 has New York as its origin. (As it turns out, that proposition is false. Nothing stops us from expressing falsehoods.)\n",
        "\n",
        "You may recognize the similarity between this $\\lambda$ notation, due to [Alonzo Church, inventor of the lambda calculus](https://en.wikipedia.org/wiki/Alonzo_Church), and [Python's syntax for defining anonymous functions](https://docs.python.org/3/reference/expressions.html#lambda), such as `lambda x: (x, NewYork) in Origin`. (This is not a coincidence, even though [Guido van Rossum is not a fan](https://www.artima.com/weblogs/viewpost.jsp?thread=98196).) The happy fact that Python already embeds a proper implementation of the lambda calculus means that we do not have to implement the lambda calculus ourselves. We'll just use Python's `lambda`.\n",
        "\n",
        "Given our implementation of the flight world, define Python `lambda` functions corresponding to the following glosses:\n",
        "\n",
        "1. Things that have a destination of New York\n",
        "1. Flights from Tel Aviv arriving in the evening\n",
        "\n",
        "<!--\n",
        "BEGIN QUESTION\n",
        "name: simple_lambda\n",
        "-->"
      ]
    },
    {
      "cell_type": "code",
      "execution_count": 68,
      "id": "3ffbdee8",
      "metadata": {
        "id": "3ffbdee8"
      },
      "outputs": [],
      "source": [
        "# TODO\n",
        "expr1 = lambda x: (x, NewYork) in Destination\n",
        "expr2 = lambda x: x in Flight and (x, TelAviv) in Origin and (x, Evening) in ArrivalTime"
      ]
    },
    {
      "cell_type": "code",
      "execution_count": 69,
      "id": "09dfede5",
      "metadata": {
        "deletable": false,
        "editable": false,
        "colab": {
          "base_uri": "https://localhost:8080/",
          "height": 46
        },
        "id": "09dfede5",
        "outputId": "f44154cb-0faf-4f5a-ce93-0b236c9f611f"
      },
      "outputs": [
        {
          "output_type": "execute_result",
          "data": {
            "text/plain": [
              "\n",
              "    All tests passed!\n",
              "    "
            ],
            "text/html": [
              "\n",
              "    \n",
              "    \n",
              "        <p>All tests passed!</p>\n",
              "    \n",
              "    "
            ]
          },
          "metadata": {},
          "execution_count": 69
        }
      ],
      "source": [
        "grader.check(\"simple_lambda\")"
      ]
    },
    {
      "cell_type": "markdown",
      "id": "00f7c97c",
      "metadata": {
        "deletable": false,
        "editable": false,
        "id": "00f7c97c"
      },
      "source": [
        "You can apply your functions on objects from the world and verify that you get the expected result. Use the expressions you just defined to check whether (1) flight DL10 has a destination of New York; and (2) whether flight LY01 is an evening-arriving flight from Tel Aviv.\n",
        "\n",
        "<!--\n",
        "BEGIN QUESTION\n",
        "name: simple_lambda_2\n",
        "-->"
      ]
    },
    {
      "cell_type": "code",
      "execution_count": 70,
      "id": "f8124ad3",
      "metadata": {
        "colab": {
          "base_uri": "https://localhost:8080/"
        },
        "id": "f8124ad3",
        "outputId": "91511185-9c4f-45d5-874b-3574e4cec587"
      },
      "outputs": [
        {
          "output_type": "stream",
          "name": "stdout",
          "text": [
            "True\n",
            "False\n"
          ]
        }
      ],
      "source": [
        "# TODO - check (1) and (2) using `expr1` and `expr2`\n",
        "result1 = expr1(DL10)\n",
        "result2 = expr2(LY01)\n",
        "print(result1)\n",
        "print(result2)"
      ]
    },
    {
      "cell_type": "code",
      "execution_count": 71,
      "id": "2ae20483",
      "metadata": {
        "deletable": false,
        "editable": false,
        "colab": {
          "base_uri": "https://localhost:8080/",
          "height": 46
        },
        "id": "2ae20483",
        "outputId": "8cbfe6bb-ae79-48ad-ef5c-f0bb18582d13"
      },
      "outputs": [
        {
          "output_type": "execute_result",
          "data": {
            "text/plain": [
              "\n",
              "    All tests passed!\n",
              "    "
            ],
            "text/html": [
              "\n",
              "    \n",
              "    \n",
              "        <p>All tests passed!</p>\n",
              "    \n",
              "    "
            ]
          },
          "metadata": {},
          "execution_count": 71
        }
      ],
      "source": [
        "grader.check(\"simple_lambda_2\")"
      ]
    },
    {
      "cell_type": "markdown",
      "id": "6f3a11f3",
      "metadata": {
        "deletable": false,
        "editable": false,
        "id": "6f3a11f3"
      },
      "source": [
        "<!-- BEGIN QUESTION -->\n",
        "\n",
        "**Question:** Notice that our flight world is underspecified, since flight LY01 does not have an arrival time. Is the result you got in `result2` desired? Would you suggest a different result?\n",
        "<!--\n",
        "BEGIN QUESTION\n",
        "name: open_response_1\n",
        "manual: true\n",
        "-->"
      ]
    },
    {
      "cell_type": "markdown",
      "id": "56b12c90",
      "metadata": {
        "id": "56b12c90"
      },
      "source": [
        "Given that there is a lack of information regarding the flight LY01's arrival time, one would believe that this is not the expected outcome. A better outcome might be unknown symbol.\n",
        "however in our opinion when we lack information it is better to get false (false Negative) than true (false Positive)  "
      ]
    },
    {
      "cell_type": "markdown",
      "id": "0de42b1d",
      "metadata": {
        "id": "0de42b1d"
      },
      "source": [
        "<!-- END QUESTION -->\n",
        "\n",
        "\n",
        "\n",
        "# Semantic parsing\n",
        "\n",
        "Semantic parsing (or semantic interpretation or analysis) is the task of converting a natural language sentence to a semantic representation, such as first-order logic. We will use a syntax-driven approach to semantic parsing, where context-free grammar rules are augmented with semantic augmentations, providing meanings for constituents derived by each rule. The meaning of each expression will be a function of the meaning of the expression's subconstituents. The meanings and the ways to combine them are defined in a syntactic-semantic grammar. For example, given a syntactic rule $A \\rightarrow B\\, C$, the meaning of $A$ is a function of the meaning of $B$ and the meaning of $C$.\n",
        "\n",
        "We want to be able to convert syntactic trees of natural language queries to FOL representations of the meanings of the associated queries. For example, given a sentence \"flights from Boston to New York\", we want to obtain the FOL expression $Flight(x) \\land Origin(x, Boston) \\land Destination(x, New York)$."
      ]
    },
    {
      "cell_type": "markdown",
      "id": "fdb124ab",
      "metadata": {
        "id": "fdb124ab"
      },
      "source": [
        "## An example grammar of flights\n",
        "\n",
        "Let us define a simple syntactic grammar for natural language queries about flights in our flight world. The grammar should cover NP expressions such as the following:\n",
        "\n",
        "* \"flights from Boston to New York\"\n",
        "* \"flights from Tel Aviv departing in the morning\"\n",
        "\n",
        "> In working with this grammar here and below, do not change the order of the productions in the grammar, as our unit tests depend on the order."
      ]
    },
    {
      "cell_type": "code",
      "execution_count": 72,
      "id": "1c4c5787",
      "metadata": {
        "id": "1c4c5787"
      },
      "outputs": [],
      "source": [
        "grammar, _ = xform.parse_augmented_grammar(\"\"\"\n",
        "    NP -> 'flights'\n",
        "    NP -> NP PP\n",
        "\n",
        "    PP -> PP_PLACE\n",
        "    PP -> PP_TIME\n",
        "\n",
        "    PP_PLACE -> 'from' LOC\n",
        "              | 'leaving' LOC\n",
        "              | 'to' LOC\n",
        "              | 'arriving' 'at' LOC\n",
        "\n",
        "    PP_TIME -> 'arriving' TIME\n",
        "             | 'departing' TIME\n",
        "             | 'leaving' TIME\n",
        "\n",
        "    LOC -> 'Boston'\n",
        "    LOC -> 'New' 'York'\n",
        "    LOC -> 'Tel' 'Aviv'\n",
        "\n",
        "    TIME -> 'in' 'the' 'morning'\n",
        "    TIME -> 'in' 'the' 'evening'\n",
        "\"\"\")"
      ]
    },
    {
      "cell_type": "code",
      "execution_count": 73,
      "id": "2ae06963",
      "metadata": {
        "colab": {
          "base_uri": "https://localhost:8080/"
        },
        "id": "2ae06963",
        "outputId": "a2902a7d-35e3-4e5e-e32f-acc2e68bb24a"
      },
      "outputs": [
        {
          "output_type": "stream",
          "name": "stdout",
          "text": [
            "Grammar with 16 productions (start state = NP)\n",
            "    NP -> 'flights'\n",
            "    NP -> NP PP\n",
            "    PP -> PP_PLACE\n",
            "    PP -> PP_TIME\n",
            "    PP_PLACE -> 'from' LOC\n",
            "    PP_PLACE -> 'leaving' LOC\n",
            "    PP_PLACE -> 'to' LOC\n",
            "    PP_PLACE -> 'arriving' 'at' LOC\n",
            "    PP_TIME -> 'arriving' TIME\n",
            "    PP_TIME -> 'departing' TIME\n",
            "    PP_TIME -> 'leaving' TIME\n",
            "    LOC -> 'Boston'\n",
            "    LOC -> 'New' 'York'\n",
            "    LOC -> 'Tel' 'Aviv'\n",
            "    TIME -> 'in' 'the' 'morning'\n",
            "    TIME -> 'in' 'the' 'evening'\n"
          ]
        }
      ],
      "source": [
        "print(grammar)"
      ]
    },
    {
      "cell_type": "markdown",
      "id": "0c8a2bff",
      "metadata": {
        "id": "0c8a2bff"
      },
      "source": [
        "There are several things to notice about this grammar.\n",
        "\n",
        "1. We use the `parse_augmented_grammar` function provided by `scripts.transform` (which we downloaded during the setup), to provide a more pleasant format for specifying grammars and augmented grammars. This format allow for blank lines and comment lines, separating alternatives on separate lines, and (although we haven't used it yet) adding semantic augmentations to the syntactic rules.\n",
        "\n",
        "1. The grammar mixes familiar nonterminals like parts of speech and phrases (NP for noun phrases, PP for prepositional phrase) with nonterminals of a more semantic flavor, like LOC for location or TIME for time. Grammars with semantics-based nonterminals are often referred to as \"semantic grammars\". But, the grammar is still syntactic in the sense that it operates on expressions to provide their structure.\n",
        "\n",
        "1. The function returns two values, a grammar in standard NLTK format, and a dictionary storing the augmentations, about which more later."
      ]
    },
    {
      "cell_type": "markdown",
      "id": "67f74fa4",
      "metadata": {
        "id": "67f74fa4"
      },
      "source": [
        "### Augmenting the grammar with semantic composition functions\n",
        "\n",
        "Next, we will augment this grammar with rule meanings to construct logical expressions. For each production in the grammar, we'll provide a function that takes as arguments the meanings of the subconstituents (one for each nonterminal on the right-hand side of the production) and returns the meaning of the full constituent. For those rules that have no right-hand side nonterminals, their meaning will thus be a function that takes no arguments (in Python, written as `lambda: ...`).\n",
        "\n",
        "Before going further, make sure you fully understand this idea. The idea behind compositional semantics systems like this is that **the meaning of a constituent is determined by (is a _function_ of) the meanings of its subconstituents**. We'll call these functions _composition functions_. In our implementation, we are taking this _literally_, by having the function of the subconstituent meaning be an _actual Python function_. Some perhaps surprising things follow:\n",
        "\n",
        "1. Since the meanings might themselves be functions, these composition functions may themselves return functions.\n",
        "2. Since the subconstituent meanings might themselves be functions, these composition functions may take functions as arguments.\n",
        "3. Since there may be zero subconstiuents of a constituent, these composition functions may take no arguments at all.\n",
        "\n",
        "For instance, trees admitted by the syntactic production `NP -> 'flights'` have no (nontrivial) subconstituents. The production might have a composition function `lambda: lambda x: x in Flight`. Similarly, the production `TIME -> 'in' 'the' 'morning'` might have a semantic composition function `lambda: Morning`.\n",
        "\n",
        "We add augmentations to the grammar by placing them on the same line as the syntactic rule they augment, after a colon (`:`). Here we've added a few augmentations."
      ]
    },
    {
      "cell_type": "code",
      "execution_count": 74,
      "id": "4ad35340",
      "metadata": {
        "id": "4ad35340"
      },
      "outputs": [],
      "source": [
        "grammar_spec_1 = \"\"\"\n",
        "    NP -> 'flights'                 : lambda: lambda x: x in Flight\n",
        "    NP -> NP PP\n",
        "\n",
        "    PP -> PP_PLACE\n",
        "    PP -> PP_TIME\n",
        "\n",
        "    PP_PLACE -> 'from' LOC\n",
        "              | 'leaving' LOC\n",
        "              | 'to' LOC\n",
        "              | 'arriving' 'at' LOC\n",
        "\n",
        "    PP_TIME -> 'arriving' TIME\n",
        "             | 'departing' TIME\n",
        "             | 'leaving' TIME\n",
        "\n",
        "    LOC -> 'Boston'\n",
        "    LOC -> 'New' 'York'\n",
        "    LOC -> 'Tel' 'Aviv'\n",
        "\n",
        "    TIME -> 'in' 'the' 'morning'    : lambda: Morning\n",
        "    TIME -> 'in' 'the' 'evening'    : lambda: Evening\n",
        "\"\"\"\n",
        "\n",
        "grammar_1, augmentations_1 = xform.parse_augmented_grammar(grammar_spec_1)"
      ]
    },
    {
      "cell_type": "markdown",
      "id": "952708e5",
      "metadata": {
        "deletable": false,
        "editable": false,
        "id": "952708e5"
      },
      "source": [
        "Now it's your turn to add augmentations for the other productions that have no nonterminals on the right-hand side (just those for now).\n",
        "<!--\n",
        "BEGIN QUESTION\n",
        "name: q_grammar_spec_2\n",
        "-->"
      ]
    },
    {
      "cell_type": "code",
      "execution_count": 75,
      "id": "905cdfb8",
      "metadata": {
        "id": "905cdfb8"
      },
      "outputs": [],
      "source": [
        "## TODO - copy grammar_spec_1 from above and add augmentations\n",
        "#         for productions with no nonterminals on the right-hand side\n",
        "# Note: do not change the order of productions!\n",
        "grammar_spec_2 = \"\"\"\n",
        "    NP -> 'flights'                 : lambda: lambda x: x in Flight\n",
        "    NP -> NP PP\n",
        "\n",
        "    PP -> PP_PLACE\n",
        "    PP -> PP_TIME\n",
        "\n",
        "    PP_PLACE -> 'from' LOC\n",
        "              | 'leaving' LOC\n",
        "              | 'to' LOC\n",
        "              | 'arriving' 'at' LOC\n",
        "\n",
        "    PP_TIME -> 'arriving' TIME\n",
        "             | 'departing' TIME\n",
        "             | 'leaving' TIME\n",
        "\n",
        "    LOC -> 'Boston'                 : lambda: Boston\n",
        "    LOC -> 'New' 'York'             : lambda: NewYork\n",
        "    LOC -> 'Tel' 'Aviv'             : lambda: TelAviv\n",
        "\n",
        "    TIME -> 'in' 'the' 'morning'    : lambda: Morning\n",
        "    TIME -> 'in' 'the' 'evening'    : lambda: Evening\n",
        "\"\"\"\n",
        "\n",
        "grammar_2, augmentations_2 = xform.parse_augmented_grammar(grammar_spec_2)"
      ]
    },
    {
      "cell_type": "code",
      "execution_count": 76,
      "id": "f5e42bfe",
      "metadata": {
        "deletable": false,
        "editable": false,
        "colab": {
          "base_uri": "https://localhost:8080/",
          "height": 46
        },
        "id": "f5e42bfe",
        "outputId": "25c8b319-00cd-4994-9f1b-5d8b435de443"
      },
      "outputs": [
        {
          "output_type": "execute_result",
          "data": {
            "text/plain": [
              "\n",
              "    All tests passed!\n",
              "    "
            ],
            "text/html": [
              "\n",
              "    \n",
              "    \n",
              "        <p>All tests passed!</p>\n",
              "    \n",
              "    "
            ]
          },
          "metadata": {},
          "execution_count": 76
        }
      ],
      "source": [
        "grader.check(\"q_grammar_spec_2\")"
      ]
    },
    {
      "cell_type": "markdown",
      "id": "3c52548a",
      "metadata": {
        "deletable": false,
        "editable": false,
        "id": "3c52548a"
      },
      "source": [
        "What about the rule `PP_TIME -> 'arriving' TIME`? A phrase like \"arriving in the morning\" ought to be associated with a Python expression that is true of things that arrive in the morning, that is, `lambda x: (x, Morning) in ArrivalTime`. We can work backwards from there.\n",
        "\n",
        "We know that the composition function for the rule will be a function of one argument, the meaning of the `TIME` subconstituent \"in the morning\", which we've already determined to be `Morning`.\n",
        "\n",
        "(Ask yourself, why isn't it `lambda: Morning`? Make sure you understand why before moving on.)\n",
        "\n",
        "Thus, the augmentation will be of the form `lambda Time: ...`, which will end up being applied to `Morning`, so that `Time` in this particular case will end up being `Morning`. What should you fill in for the `...` so that the result of the application will be `lambda x: (x, Morning) in ArrivalTime`?\n",
        "\n",
        "Add an augmentation for the `PP_TIME -> 'arriving' TIME` rule to the grammar based on your solution.\n",
        "<!--\n",
        "BEGIN QUESTION\n",
        "name: q_grammar_spec_3\n",
        "-->"
      ]
    },
    {
      "cell_type": "code",
      "execution_count": 77,
      "id": "9abe86d9",
      "metadata": {
        "id": "9abe86d9"
      },
      "outputs": [],
      "source": [
        "## TODO - copy grammar_spec_2 from above and add augmentations\n",
        "#         for production PP_TIME -> 'arriving' TIME\n",
        "# Note: do not change the order of productions!\n",
        "grammar_spec_3 = \"\"\"\n",
        "    NP -> 'flights'                 : lambda: lambda x: x in Flight\n",
        "    NP -> NP PP\n",
        "\n",
        "    PP -> PP_PLACE\n",
        "    PP -> PP_TIME\n",
        "\n",
        "    PP_PLACE -> 'from' LOC\n",
        "              | 'leaving' LOC\n",
        "              | 'to' LOC\n",
        "              | 'arriving' 'at' LOC\n",
        "\n",
        "    PP_TIME -> 'arriving' TIME      : lambda y: lambda x: (x,y) in ArrivalTime\n",
        "             | 'departing' TIME     : lambda y: lambda x: (x,y) in DepartureTime\n",
        "             | 'leaving' TIME       : lambda y: lambda x: (x,y) in DepartureTime\n",
        "\n",
        "    LOC -> 'Boston'                 : lambda: Boston\n",
        "    LOC -> 'New' 'York'             : lambda: NewYork\n",
        "    LOC -> 'Tel' 'Aviv'             : lambda: TelAviv\n",
        "\n",
        "    TIME -> 'in' 'the' 'morning'    : lambda: Morning\n",
        "    TIME -> 'in' 'the' 'evening'    : lambda: Evening\n",
        "\"\"\"\n",
        "grammar_3, augmentations_3 = xform.parse_augmented_grammar(grammar_spec_3)"
      ]
    },
    {
      "cell_type": "code",
      "execution_count": 78,
      "id": "62b01bc6",
      "metadata": {
        "deletable": false,
        "editable": false,
        "id": "62b01bc6",
        "colab": {
          "base_uri": "https://localhost:8080/",
          "height": 46
        },
        "outputId": "36d4a42d-acc9-4b98-d8dc-4e235d0e374f"
      },
      "outputs": [
        {
          "output_type": "execute_result",
          "data": {
            "text/plain": [
              "\n",
              "    All tests passed!\n",
              "    "
            ],
            "text/html": [
              "\n",
              "    \n",
              "    \n",
              "        <p>All tests passed!</p>\n",
              "    \n",
              "    "
            ]
          },
          "metadata": {},
          "execution_count": 78
        }
      ],
      "source": [
        "grader.check(\"q_grammar_spec_3\")"
      ]
    },
    {
      "cell_type": "markdown",
      "id": "201b1f5c",
      "metadata": {
        "deletable": false,
        "editable": false,
        "id": "201b1f5c"
      },
      "source": [
        "Once you get that augmentation in place, many others should be straightforward. Fill in augmentations for all of the `PP_PLACE -> *` and `PP_TIME -> *` productions.\n",
        "\n",
        "And what about the productions `PP -> PP_PLACE` and `PP -> PP_TIME`? Their composition functions are simple, since the meaning of the `PP` is just the same as the meaning of its right-hand side element. What composition function can achieve that? Fill in the augmentations for those rules too.\n",
        "\n",
        "Finally, the trickiest case is the composition function for the `NP -> NP PP` rule. Since it has two nonterminals on the right-hand side, it should be a function of two arguments, that is, something like `lambda NP, PP: ...`. This function will be applied to the meanings of the two subconstituents. The meanings for its two subconstituents, the NP and the PP, are each themselves going to be a function specifying a kind of property (like \"being a flight\" (`lambda x: x in Flight`) or \"originating in New York\" (`lambda x: (x, NewYork) in Origin`)). For the full constituent, its meaning should also be a property, namely the conjunction of the NP- and PP-provided properties (\"being a flight and originating in New York\" (`lambda x: x in Flight and (x, NewYork) in Origin`)). Define an appropriate augmentation that can do that as well, and add it to the grammar to complete the semantic augmentations.\n",
        "\n",
        "> **Hint:** Consider what should the composition function for `NP -> NP PP` return. Should it be a function? If so, how many arguments should it take?\n",
        "\n",
        "<!--\n",
        "BEGIN QUESTION\n",
        "name: q_grammar_spec_4\n",
        "-->"
      ]
    },
    {
      "cell_type": "code",
      "execution_count": 79,
      "id": "09a9d6cc",
      "metadata": {
        "id": "09a9d6cc"
      },
      "outputs": [],
      "source": [
        "## TODO - copy grammar_spec_3 from above and add augmentations\n",
        "#         for productions PP_PLACE -> *, PP_TIME -> *,\n",
        "#         PP -> PP_PLACE, PP -> PP_TIME, and NP -> NP PP\n",
        "# Note: Do not change the order of productions!\n",
        "grammar_spec_4 = \"\"\"\n",
        "    NP -> 'flights'                 : lambda: lambda x: x in Flight\n",
        "    NP -> NP PP                     : lambda NP, PP: lambda x: NP(x) and PP(x)\n",
        "\n",
        "    PP -> PP_PLACE                  : lambda x: x\n",
        "    PP -> PP_TIME                   : lambda x: x\n",
        "\n",
        "    PP_PLACE -> 'from' LOC          : lambda y: lambda x: (x,y) in Origin\n",
        "              | 'leaving' LOC       : lambda y: lambda x: (x,y) in Origin\n",
        "              | 'to' LOC            : lambda y: lambda x: (x,y) in Destination\n",
        "              | 'arriving' 'at' LOC : lambda y: lambda x: (x,y) in Destination\n",
        "\n",
        "    PP_TIME -> 'arriving' TIME      : lambda y: lambda x: (x,y) in ArrivalTime\n",
        "             | 'departing' TIME     : lambda y: lambda x: (x,y) in DepartureTime\n",
        "             | 'leaving' TIME       : lambda y: lambda x: (x,y) in DepartureTime\n",
        "\n",
        "    LOC -> 'Boston'                 : lambda: Boston\n",
        "    LOC -> 'New' 'York'             : lambda: NewYork\n",
        "    LOC -> 'Tel' 'Aviv'             : lambda: TelAviv\n",
        "\n",
        "    TIME -> 'in' 'the' 'morning'    : lambda: Morning\n",
        "    TIME -> 'in' 'the' 'evening'    : lambda: Evening\n",
        "\"\"\"\n",
        "grammar_4, augmentations_4 = xform.parse_augmented_grammar(grammar_spec_4)"
      ]
    },
    {
      "cell_type": "code",
      "execution_count": 80,
      "id": "b3d03854",
      "metadata": {
        "deletable": false,
        "editable": false,
        "colab": {
          "base_uri": "https://localhost:8080/",
          "height": 46
        },
        "id": "b3d03854",
        "outputId": "9a299ba6-f56c-43b7-d843-71fb6b6578d3"
      },
      "outputs": [
        {
          "output_type": "execute_result",
          "data": {
            "text/plain": [
              "\n",
              "    All tests passed!\n",
              "    "
            ],
            "text/html": [
              "\n",
              "    \n",
              "    \n",
              "        <p>All tests passed!</p>\n",
              "    \n",
              "    "
            ]
          },
          "metadata": {},
          "execution_count": 80
        }
      ],
      "source": [
        "grader.check(\"q_grammar_spec_4\")"
      ]
    },
    {
      "cell_type": "markdown",
      "id": "f2fe7949",
      "metadata": {
        "id": "f2fe7949"
      },
      "source": [
        "The `parse_augmented_grammar` function we've provided returns two values, an NLTK grammar based on the syntactic productions, and a dictionary that maps those productions onto the corresponding semantic augmentations. We can examine them individually."
      ]
    },
    {
      "cell_type": "code",
      "execution_count": 81,
      "id": "5d6c937f",
      "metadata": {
        "colab": {
          "base_uri": "https://localhost:8080/"
        },
        "id": "5d6c937f",
        "outputId": "f7378bca-f6cd-41df-823f-55bb28815c41"
      },
      "outputs": [
        {
          "output_type": "stream",
          "name": "stdout",
          "text": [
            "Grammar with 16 productions (start state = NP)\n",
            "    NP -> 'flights'\n",
            "    NP -> NP PP\n",
            "    PP -> PP_PLACE\n",
            "    PP -> PP_TIME\n",
            "    PP_PLACE -> 'from' LOC\n",
            "    PP_PLACE -> 'leaving' LOC\n",
            "    PP_PLACE -> 'to' LOC\n",
            "    PP_PLACE -> 'arriving' 'at' LOC\n",
            "    PP_TIME -> 'arriving' TIME\n",
            "    PP_TIME -> 'departing' TIME\n",
            "    PP_TIME -> 'leaving' TIME\n",
            "    LOC -> 'Boston'\n",
            "    LOC -> 'New' 'York'\n",
            "    LOC -> 'Tel' 'Aviv'\n",
            "    TIME -> 'in' 'the' 'morning'\n",
            "    TIME -> 'in' 'the' 'evening'\n"
          ]
        }
      ],
      "source": [
        "print(grammar_4)"
      ]
    },
    {
      "cell_type": "code",
      "execution_count": 82,
      "id": "aacfaffb",
      "metadata": {
        "colab": {
          "base_uri": "https://localhost:8080/"
        },
        "id": "aacfaffb",
        "outputId": "66cbdeb7-38c4-4dca-bfbb-8efcd29fc862"
      },
      "outputs": [
        {
          "output_type": "stream",
          "name": "stdout",
          "text": [
            "defaultdict(<function parse_augmented_grammar.<locals>.<lambda> at 0x7f24cd2f6ef0>,\n",
            "            {LOC -> 'Boston': <function <lambda> at 0x7f24cd2f71c0>,\n",
            "             LOC -> 'New' 'York': <function <lambda> at 0x7f24cd2f43a0>,\n",
            "             LOC -> 'Tel' 'Aviv': <function <lambda> at 0x7f24cd2f7e20>,\n",
            "             NP -> NP PP: <function <lambda> at 0x7f24cd2f7a30>,\n",
            "             NP -> 'flights': <function <lambda> at 0x7f24cd2f7520>,\n",
            "             PP -> PP_PLACE: <function <lambda> at 0x7f24cd2f5000>,\n",
            "             PP -> PP_TIME: <function <lambda> at 0x7f24cd2f7b50>,\n",
            "             PP_PLACE -> 'arriving' 'at' LOC: <function <lambda> at 0x7f24cd2f77f0>,\n",
            "             PP_PLACE -> 'from' LOC: <function <lambda> at 0x7f24cd2f6320>,\n",
            "             PP_PLACE -> 'leaving' LOC: <function <lambda> at 0x7f24cd2f5990>,\n",
            "             PP_PLACE -> 'to' LOC: <function <lambda> at 0x7f24cd2f7130>,\n",
            "             PP_TIME -> 'arriving' TIME: <function <lambda> at 0x7f24cd2f75b0>,\n",
            "             PP_TIME -> 'departing' TIME: <function <lambda> at 0x7f24cd2f55a0>,\n",
            "             PP_TIME -> 'leaving' TIME: <function <lambda> at 0x7f24cd2f6e60>,\n",
            "             TIME -> 'in' 'the' 'evening': <function <lambda> at 0x7f24cd2f6a70>,\n",
            "             TIME -> 'in' 'the' 'morning': <function <lambda> at 0x7f24cd2f4a60>})\n"
          ]
        }
      ],
      "source": [
        "pprint.pprint(augmentations_4)"
      ]
    },
    {
      "cell_type": "markdown",
      "id": "763b7608",
      "metadata": {
        "id": "763b7608"
      },
      "source": [
        "The semantic functions aren't much to look at. Python doesn't print out very useful information about them. But you can test them to see if they do the right thing. For instance, the semantic function for the `PP -> PP_PLACE` production ought to just be the identity function (something like `lambda PP_PLACE: PP_PLACE`).\n",
        "\n",
        "> A typical alternative that comes up is to make explicit the function status of the `PP_PLACE` meaning by apply the `PP_PLACE` meaning to a variable, say, `x`. To generate a function of the right type for the `PP` meaning, we'd need to reabstract over `x`, resulting in the `PP` meaning `lambda x: PP_PLACE(x)`. If you took this approach, providing a composition function for the rule of the form `lambda PP_PLACE: lambda x: PP_PLACE(x)`, know that these two `PP` meaning options – `PP_PLACE` and `lambda x: PP_PLACE(x)` – are, in an appropriate sense, equivalent. In the lambda calculus, their equivalence is codified in [the $\\eta$ rule](https://en.wikipedia.org/wiki/Lambda_calculus#η-reduction). You'll want to change to the simpler form for the tests below.\n",
        "\n",
        "Let's check."
      ]
    },
    {
      "cell_type": "code",
      "execution_count": 83,
      "id": "d781271d",
      "metadata": {
        "colab": {
          "base_uri": "https://localhost:8080/"
        },
        "id": "d781271d",
        "outputId": "8ddb78ea-c7ca-473d-fa2e-8dbf4c3d2de4"
      },
      "outputs": [
        {
          "output_type": "execute_result",
          "data": {
            "text/plain": [
              "PP -> PP_PLACE"
            ]
          },
          "metadata": {},
          "execution_count": 83
        }
      ],
      "source": [
        "pp_place_production = list(augmentations_4.keys())[2]\n",
        "pp_place_production"
      ]
    },
    {
      "cell_type": "code",
      "execution_count": 84,
      "id": "f19fbe07",
      "metadata": {
        "colab": {
          "base_uri": "https://localhost:8080/"
        },
        "id": "f19fbe07",
        "outputId": "01dd49cd-afbd-4fc3-8520-c90af7e70d17"
      },
      "outputs": [
        {
          "output_type": "execute_result",
          "data": {
            "text/plain": [
              "<function transform.<lambda>(x)>"
            ]
          },
          "metadata": {},
          "execution_count": 84
        }
      ],
      "source": [
        "pp_place_augmentation = augmentations_4[pp_place_production]\n",
        "pp_place_augmentation"
      ]
    },
    {
      "cell_type": "code",
      "execution_count": 85,
      "id": "bb55a645",
      "metadata": {
        "colab": {
          "base_uri": "https://localhost:8080/"
        },
        "id": "bb55a645",
        "outputId": "ef479a8d-d13a-49cc-c77d-5a909a6ba634"
      },
      "outputs": [
        {
          "output_type": "stream",
          "name": "stdout",
          "text": [
            "42\n",
            "hello\n",
            "True\n"
          ]
        }
      ],
      "source": [
        "for x in [42, 'hello', True]:\n",
        "  print(pp_place_augmentation(x))"
      ]
    },
    {
      "cell_type": "markdown",
      "id": "c8c127e3",
      "metadata": {
        "id": "c8c127e3"
      },
      "source": [
        "So it sure looks like the augmentation for the `PP -> Place` rule is doing what we asked. (If not, check over your solution to the augmented grammar.)"
      ]
    },
    {
      "cell_type": "markdown",
      "id": "a9628f3f",
      "metadata": {
        "id": "a9628f3f"
      },
      "source": [
        "## Applying the grammar\n",
        "\n",
        "With augmented grammar in hand, we can use it to get a FOL meaning representation for sentences. The procedure has two steps:\n",
        "\n",
        "1. Run a syntactic parsing algorithm to get a syntactic tree.\n",
        "2. Follow the tree derivation to obtain a meaning representation.\n",
        "\n",
        "The first step you're familiar with from the last segment of the course; this is the role of parsing algorithms such as CKY.\n",
        "\n",
        "The second step works by walking the tree, recursively constructing meanings for the subconstituents of a node, and then combining those subconstituent meanings by applying the production augmentation for the node to the subconstituent meanings to construct the meaning of the tree itself. This recursive method bottoms up when we come to a tree that has no nonterminal subconstituents; we just apply its production augmentation to the empty set of arguments.\n",
        "\n",
        "You could implement such a function – in fact, you will in project segment 4 – but for purpose of the lab today, you'll just carry out this process by hand.\n",
        "\n",
        "Let us walk through a semantic parsing of the expression \"flights from Boston\". First, we construct a syntactic parse tree for this sentence. The following function makes an `nltk` syntactic grammar from the syntactic-semantic grammar:\n",
        "\n",
        "We can use `nltk`'s `BottomUpChartParser` to parse the sentence:"
      ]
    },
    {
      "cell_type": "code",
      "execution_count": 86,
      "id": "4833ebfb",
      "metadata": {
        "colab": {
          "base_uri": "https://localhost:8080/"
        },
        "id": "4833ebfb",
        "outputId": "ac3c6c7a-aa05-4def-e08f-59361f55c0b7"
      },
      "outputs": [
        {
          "output_type": "stream",
          "name": "stdout",
          "text": [
            "         NP                 \n",
            "    _____|______             \n",
            "   |            PP          \n",
            "   |            |            \n",
            "   |         PP_PLACE       \n",
            "   |      ______|_______     \n",
            "   NP    |             LOC  \n",
            "   |     |              |    \n",
            "flights from          Boston\n",
            "\n"
          ]
        }
      ],
      "source": [
        "parser = nltk.parse.BottomUpChartParser(grammar_4)\n",
        "\n",
        "sentence = \"flights from Boston\".split()\n",
        "for tree in [p for p in parser.parse(sentence)]:\n",
        "    tree.pretty_print()"
      ]
    },
    {
      "cell_type": "markdown",
      "id": "182de450",
      "metadata": {
        "id": "182de450"
      },
      "source": [
        "Below, we use Python variables like `A__some_words` to store the meaning for the constituent with nonterminal \"A\" spanning \"some words\".   \n",
        "\n",
        "For example, for the subtree `(NP 'flights')` at the bottom left of the tree, we'll store its meaning in the variable `NP__flights`. That meaning is constructed by applying the augmentation for the production `NP -> 'flights'` to the empty set of arguments. Hopefully, in the grammars starting with `grammar_spec_1` above, you've had the augmentation for that rule as `lambda: lambda x: x in Flight`. Applying this to the empty set of arguments, we get `(lambda: lambda x: x in Flight)()`, that is, `lambda x: x in Flight`.\n",
        "We record this for purposes of the lab as:"
      ]
    },
    {
      "cell_type": "code",
      "execution_count": 87,
      "id": "71303903",
      "metadata": {
        "id": "71303903"
      },
      "outputs": [],
      "source": [
        "NP__flights = (lambda: lambda x: x in Flight)()"
      ]
    },
    {
      "cell_type": "markdown",
      "id": "2b0d61c0",
      "metadata": {
        "deletable": false,
        "editable": false,
        "id": "2b0d61c0"
      },
      "source": [
        "Now do the same for the subtree rooted in `LOC`.\n",
        "<!--\n",
        "BEGIN QUESTION\n",
        "name: derivation_1\n",
        "-->"
      ]
    },
    {
      "cell_type": "code",
      "execution_count": 88,
      "id": "c641cd50",
      "metadata": {
        "id": "c641cd50"
      },
      "outputs": [],
      "source": [
        "#TODO\n",
        "LOC__Boston = (lambda: Boston)()"
      ]
    },
    {
      "cell_type": "code",
      "execution_count": 89,
      "id": "1f4b5f76",
      "metadata": {
        "deletable": false,
        "editable": false,
        "colab": {
          "base_uri": "https://localhost:8080/",
          "height": 46
        },
        "id": "1f4b5f76",
        "outputId": "fb5c437c-89aa-48a5-e035-503e4972ce18"
      },
      "outputs": [
        {
          "output_type": "execute_result",
          "data": {
            "text/plain": [
              "\n",
              "    All tests passed!\n",
              "    "
            ],
            "text/html": [
              "\n",
              "    \n",
              "    \n",
              "        <p>All tests passed!</p>\n",
              "    \n",
              "    "
            ]
          },
          "metadata": {},
          "execution_count": 89
        }
      ],
      "source": [
        "grader.check(\"derivation_1\")"
      ]
    },
    {
      "cell_type": "markdown",
      "id": "189f4bd5",
      "metadata": {
        "deletable": false,
        "editable": false,
        "id": "189f4bd5"
      },
      "source": [
        "Working bottom up, we consider the subtree rooted in `PP_PLACE`. What is the augmentation for the production used to form that subtree? Apply the augmentation to the meaning you've just computed for its one nonterminal-rooted subconstituent, which you've already stored as `LOC__Boston`, and call the result as `PP_PLACE__from_Boston`.\n",
        "<!--\n",
        "BEGIN QUESTION\n",
        "name: derivation_2\n",
        "-->"
      ]
    },
    {
      "cell_type": "code",
      "execution_count": 90,
      "id": "ee27f917",
      "metadata": {
        "id": "ee27f917"
      },
      "outputs": [],
      "source": [
        "#TODO\n",
        "PP_PLACE__from_boston = (lambda y: lambda x: (x,y) in Origin)(LOC__Boston)"
      ]
    },
    {
      "cell_type": "code",
      "execution_count": 91,
      "id": "bc8a9d8a",
      "metadata": {
        "deletable": false,
        "editable": false,
        "colab": {
          "base_uri": "https://localhost:8080/",
          "height": 46
        },
        "id": "bc8a9d8a",
        "outputId": "ccce0a90-435e-485e-a89f-66057b273582"
      },
      "outputs": [
        {
          "output_type": "execute_result",
          "data": {
            "text/plain": [
              "\n",
              "    All tests passed!\n",
              "    "
            ],
            "text/html": [
              "\n",
              "    \n",
              "    \n",
              "        <p>All tests passed!</p>\n",
              "    \n",
              "    "
            ]
          },
          "metadata": {},
          "execution_count": 91
        }
      ],
      "source": [
        "grader.check(\"derivation_2\")"
      ]
    },
    {
      "cell_type": "markdown",
      "id": "99f890ea",
      "metadata": {
        "deletable": false,
        "editable": false,
        "id": "99f890ea"
      },
      "source": [
        "Again working bottom up, define the meaning for PP, by applying the meaning of the rule `PP -> PP_PLACE` to the meaning of the `PP_PLACE` just computed.\n",
        "<!--\n",
        "BEGIN QUESTION\n",
        "name: derivation_3\n",
        "-->"
      ]
    },
    {
      "cell_type": "code",
      "execution_count": 92,
      "id": "22e1eba4",
      "metadata": {
        "id": "22e1eba4"
      },
      "outputs": [],
      "source": [
        "#TODO\n",
        "PP__from_boston = (lambda x: x)(PP_PLACE__from_boston)"
      ]
    },
    {
      "cell_type": "code",
      "execution_count": 93,
      "id": "7324f52a",
      "metadata": {
        "deletable": false,
        "editable": false,
        "colab": {
          "base_uri": "https://localhost:8080/",
          "height": 46
        },
        "id": "7324f52a",
        "outputId": "32f5c577-87d8-4b43-929a-3d31adb3accf"
      },
      "outputs": [
        {
          "output_type": "execute_result",
          "data": {
            "text/plain": [
              "\n",
              "    All tests passed!\n",
              "    "
            ],
            "text/html": [
              "\n",
              "    \n",
              "    \n",
              "        <p>All tests passed!</p>\n",
              "    \n",
              "    "
            ]
          },
          "metadata": {},
          "execution_count": 93
        }
      ],
      "source": [
        "grader.check(\"derivation_3\")"
      ]
    },
    {
      "cell_type": "markdown",
      "id": "da37a408",
      "metadata": {
        "deletable": false,
        "editable": false,
        "id": "da37a408"
      },
      "source": [
        "Finally, derive the meaning of the entire expression by applying the meaning of the rule `NP -> NP PP` to the meanings of its parts.\n",
        "<!--\n",
        "BEGIN QUESTION\n",
        "name: derivation_4\n",
        "-->"
      ]
    },
    {
      "cell_type": "code",
      "execution_count": 94,
      "id": "df77c335",
      "metadata": {
        "id": "df77c335"
      },
      "outputs": [],
      "source": [
        "#TODO\n",
        "NP__flights_from_boston = (lambda NP, PP: lambda x: NP(x) and PP(x))(NP__flights, PP__from_boston)"
      ]
    },
    {
      "cell_type": "code",
      "execution_count": 95,
      "id": "5adfb526",
      "metadata": {
        "deletable": false,
        "editable": false,
        "id": "5adfb526",
        "colab": {
          "base_uri": "https://localhost:8080/",
          "height": 46
        },
        "outputId": "e9726df3-43fd-4f13-a2eb-14573af8ecba"
      },
      "outputs": [
        {
          "output_type": "execute_result",
          "data": {
            "text/plain": [
              "\n",
              "    All tests passed!\n",
              "    "
            ],
            "text/html": [
              "\n",
              "    \n",
              "    \n",
              "        <p>All tests passed!</p>\n",
              "    \n",
              "    "
            ]
          },
          "metadata": {},
          "execution_count": 95
        }
      ],
      "source": [
        "grader.check(\"derivation_4\")"
      ]
    },
    {
      "cell_type": "markdown",
      "id": "7a3a5d59",
      "metadata": {
        "id": "7a3a5d59"
      },
      "source": [
        "To check that you've got the correct expression, we run through all objects in the flight world and apply the expression to them, printing out the ones that evaluate to `True`."
      ]
    },
    {
      "cell_type": "code",
      "execution_count": 96,
      "id": "cf15d8f5",
      "metadata": {
        "id": "cf15d8f5",
        "colab": {
          "base_uri": "https://localhost:8080/"
        },
        "outputId": "5b40da83-ce68-41a1-cc72-537ed5105ce8"
      },
      "outputs": [
        {
          "output_type": "stream",
          "name": "stdout",
          "text": [
            "['DL10', 'DL11']\n"
          ]
        }
      ],
      "source": [
        "print([obj for obj in Object if NP__flights_from_boston(obj)])"
      ]
    },
    {
      "cell_type": "markdown",
      "id": "8f18afc6",
      "metadata": {
        "id": "8f18afc6"
      },
      "source": [
        "If your grammar augmentations are correct and you've carried out the deribvation correctly, you should get a list of just those objects that are flights from Boston, namely, DL10 and DL11.\n",
        "\n",
        "Let's move to a more complex example. Now that you know the drill, construct the meaning for \"flights from Boston to New York\" using the same augmented grammar. Here's the parse tree:"
      ]
    },
    {
      "cell_type": "code",
      "execution_count": 97,
      "id": "9a9aff71",
      "metadata": {
        "id": "9a9aff71",
        "colab": {
          "base_uri": "https://localhost:8080/"
        },
        "outputId": "4d761404-b919-4678-a196-d83e9f1777ac"
      },
      "outputs": [
        {
          "output_type": "stream",
          "name": "stdout",
          "text": [
            "                        NP                        \n",
            "          ______________|___________               \n",
            "         NP                         |             \n",
            "    _____|______                    |              \n",
            "   |            PP                  PP            \n",
            "   |            |                   |              \n",
            "   |         PP_PLACE            PP_PLACE         \n",
            "   |      ______|_______       _____|______        \n",
            "   NP    |             LOC    |           LOC     \n",
            "   |     |              |     |      ______|___    \n",
            "flights from          Boston  to   New        York\n",
            "\n"
          ]
        }
      ],
      "source": [
        "sentence = \"flights from Boston to New York\".split()\n",
        "parses = [p for p in parser.parse(sentence)]\n",
        "for tree in parses:\n",
        "    tree.pretty_print()"
      ]
    },
    {
      "cell_type": "markdown",
      "id": "cd7a8c3a",
      "metadata": {
        "deletable": false,
        "editable": false,
        "id": "cd7a8c3a"
      },
      "source": [
        "Create the meaning representation by walking through the tree bottom up. You can use the result you got for \"flights from Boston\" and compose it with the rest of the expression. The result will be stored as `NP__flights_from_boston_to_new_york`.\n",
        "<!--\n",
        "BEGIN QUESTION\n",
        "name: derivation_5\n",
        "-->"
      ]
    },
    {
      "cell_type": "code",
      "execution_count": 98,
      "id": "52a2fece",
      "metadata": {
        "id": "52a2fece"
      },
      "outputs": [],
      "source": [
        "#TODO\n",
        "LOC___NEWYORK = (lambda: NewYork)()\n",
        "PP_PLACE = (lambda y: lambda x: (x,y) in Destination)(LOC___NEWYORK)\n",
        "PP_TO_NY = (lambda x: x)(PP_PLACE)\n",
        "NP__flights_from_boston_to_new_york = (lambda NP, PP: lambda x: NP(x) and PP(x))(NP__flights_from_boston, PP_TO_NY)"
      ]
    },
    {
      "cell_type": "code",
      "execution_count": 99,
      "id": "2291e4d3",
      "metadata": {
        "deletable": false,
        "editable": false,
        "id": "2291e4d3",
        "colab": {
          "base_uri": "https://localhost:8080/",
          "height": 46
        },
        "outputId": "c84e34d3-7090-4e24-f18c-116caf765d0a"
      },
      "outputs": [
        {
          "output_type": "execute_result",
          "data": {
            "text/plain": [
              "\n",
              "    All tests passed!\n",
              "    "
            ],
            "text/html": [
              "\n",
              "    \n",
              "    \n",
              "        <p>All tests passed!</p>\n",
              "    \n",
              "    "
            ]
          },
          "metadata": {},
          "execution_count": 99
        }
      ],
      "source": [
        "grader.check(\"derivation_5\")"
      ]
    },
    {
      "cell_type": "markdown",
      "id": "79f815d1",
      "metadata": {
        "id": "79f815d1"
      },
      "source": [
        "Now run the expression against the flight world to verify you got the correct result:"
      ]
    },
    {
      "cell_type": "code",
      "execution_count": 100,
      "id": "ce944115",
      "metadata": {
        "id": "ce944115",
        "colab": {
          "base_uri": "https://localhost:8080/"
        },
        "outputId": "15f91fe5-2b1d-45ff-d88d-eae152202738"
      },
      "outputs": [
        {
          "output_type": "stream",
          "name": "stdout",
          "text": [
            "['DL10']\n"
          ]
        }
      ],
      "source": [
        "print([obj for obj in Object if NP__flights_from_boston_to_new_york(obj)])"
      ]
    },
    {
      "cell_type": "markdown",
      "id": "a5e95118",
      "metadata": {
        "id": "a5e95118"
      },
      "source": [
        "# Scaling up\n",
        "\n",
        "Constructing the meaning representation manually by traversing a tree is a tedious process. In practice, we would like an automated process, which, given any syntactic-semantic grammar and a tree consistent with the syntactic grammar returns a semantic representation. So far, we've seen how to use the syntactic parse tree to guide the composition of semantic representations. In project segment 4, you will automate this process by implementing such a generic semantic parser, which takes any tree with associated semantic rules, and constructs the meaning representation, doing just the work you've been doing by hand here."
      ]
    },
    {
      "cell_type": "markdown",
      "id": "ccbd8af7",
      "metadata": {
        "deletable": false,
        "editable": false,
        "id": "ccbd8af7"
      },
      "source": [
        "<!-- BEGIN QUESTION -->\n",
        "\n",
        "# Lab debrief\n",
        "\n",
        "**Question:** We're interested in any thoughts your group has about this lab so that we can improve this lab for later years, and to inform later labs for this year. Please list any issues that arose or comments you have to improve the lab. Useful things to comment on might include the following:\n",
        "\n",
        "* Was the lab too long or too short?\n",
        "* Were the readings appropriate for the lab?\n",
        "* Was it clear (at least after you completed the lab) what the points of the exercises were?\n",
        "* Are there additions or changes you think would make the lab better?\n",
        "\n",
        "but you should comment on whatever aspects you found especially positive or negative.\n",
        "\n",
        "<!--\n",
        "BEGIN QUESTION\n",
        "name: open_response_debrief\n",
        "manual: true\n",
        "-->"
      ]
    },
    {
      "cell_type": "markdown",
      "id": "4528b79d",
      "metadata": {
        "id": "4528b79d"
      },
      "source": [
        "_Type your answer here, replacing this text._"
      ]
    },
    {
      "cell_type": "markdown",
      "id": "a4a9a766",
      "metadata": {
        "id": "a4a9a766"
      },
      "source": [
        "<!-- END QUESTION -->\n",
        "\n",
        "\n",
        "\n",
        "# End of Lab 4-1"
      ]
    },
    {
      "cell_type": "markdown",
      "id": "ad695552",
      "metadata": {
        "deletable": false,
        "editable": false,
        "id": "ad695552"
      },
      "source": [
        "---\n",
        "\n",
        "To double-check your work, the cell below will rerun all of the autograder tests."
      ]
    },
    {
      "cell_type": "code",
      "execution_count": 101,
      "id": "0d21e49c",
      "metadata": {
        "deletable": false,
        "editable": false,
        "id": "0d21e49c",
        "colab": {
          "base_uri": "https://localhost:8080/",
          "height": 677
        },
        "outputId": "28361f56-aac1-4007-db9e-04a703b79707"
      },
      "outputs": [
        {
          "output_type": "execute_result",
          "data": {
            "text/plain": [
              "derivation_1:\n",
              "\n",
              "    All tests passed!\n",
              "    \n",
              "\n",
              "derivation_2:\n",
              "\n",
              "    All tests passed!\n",
              "    \n",
              "\n",
              "derivation_3:\n",
              "\n",
              "    All tests passed!\n",
              "    \n",
              "\n",
              "derivation_4:\n",
              "\n",
              "    All tests passed!\n",
              "    \n",
              "\n",
              "derivation_5:\n",
              "\n",
              "    All tests passed!\n",
              "    \n",
              "\n",
              "dl10_endpoints:\n",
              "\n",
              "    All tests passed!\n",
              "    \n",
              "\n",
              "finish_world:\n",
              "\n",
              "    All tests passed!\n",
              "    \n",
              "\n",
              "gloss_samples:\n",
              "\n",
              "    All tests passed!\n",
              "    \n",
              "\n",
              "q_grammar_spec_2:\n",
              "\n",
              "    All tests passed!\n",
              "    \n",
              "\n",
              "q_grammar_spec_3:\n",
              "\n",
              "    All tests passed!\n",
              "    \n",
              "\n",
              "q_grammar_spec_4:\n",
              "\n",
              "    All tests passed!\n",
              "    \n",
              "\n",
              "simple_lambda:\n",
              "\n",
              "    All tests passed!\n",
              "    \n",
              "\n",
              "simple_lambda_2:\n",
              "\n",
              "    All tests passed!\n",
              "    \n",
              "\n",
              "truth_samples:\n",
              "\n",
              "    All tests passed!\n",
              "    \n"
            ],
            "text/html": [
              "<p><strong>derivation_1:</strong></p>\n",
              "\n",
              "    \n",
              "    \n",
              "        <p>All tests passed!</p>\n",
              "    \n",
              "    \n",
              "\n",
              "<p><strong>derivation_2:</strong></p>\n",
              "\n",
              "    \n",
              "    \n",
              "        <p>All tests passed!</p>\n",
              "    \n",
              "    \n",
              "\n",
              "<p><strong>derivation_3:</strong></p>\n",
              "\n",
              "    \n",
              "    \n",
              "        <p>All tests passed!</p>\n",
              "    \n",
              "    \n",
              "\n",
              "<p><strong>derivation_4:</strong></p>\n",
              "\n",
              "    \n",
              "    \n",
              "        <p>All tests passed!</p>\n",
              "    \n",
              "    \n",
              "\n",
              "<p><strong>derivation_5:</strong></p>\n",
              "\n",
              "    \n",
              "    \n",
              "        <p>All tests passed!</p>\n",
              "    \n",
              "    \n",
              "\n",
              "<p><strong>dl10_endpoints:</strong></p>\n",
              "\n",
              "    \n",
              "    \n",
              "        <p>All tests passed!</p>\n",
              "    \n",
              "    \n",
              "\n",
              "<p><strong>finish_world:</strong></p>\n",
              "\n",
              "    \n",
              "    \n",
              "        <p>All tests passed!</p>\n",
              "    \n",
              "    \n",
              "\n",
              "<p><strong>gloss_samples:</strong></p>\n",
              "\n",
              "    \n",
              "    \n",
              "        <p>All tests passed!</p>\n",
              "    \n",
              "    \n",
              "\n",
              "<p><strong>q_grammar_spec_2:</strong></p>\n",
              "\n",
              "    \n",
              "    \n",
              "        <p>All tests passed!</p>\n",
              "    \n",
              "    \n",
              "\n",
              "<p><strong>q_grammar_spec_3:</strong></p>\n",
              "\n",
              "    \n",
              "    \n",
              "        <p>All tests passed!</p>\n",
              "    \n",
              "    \n",
              "\n",
              "<p><strong>q_grammar_spec_4:</strong></p>\n",
              "\n",
              "    \n",
              "    \n",
              "        <p>All tests passed!</p>\n",
              "    \n",
              "    \n",
              "\n",
              "<p><strong>simple_lambda:</strong></p>\n",
              "\n",
              "    \n",
              "    \n",
              "        <p>All tests passed!</p>\n",
              "    \n",
              "    \n",
              "\n",
              "<p><strong>simple_lambda_2:</strong></p>\n",
              "\n",
              "    \n",
              "    \n",
              "        <p>All tests passed!</p>\n",
              "    \n",
              "    \n",
              "\n",
              "<p><strong>truth_samples:</strong></p>\n",
              "\n",
              "    \n",
              "    \n",
              "        <p>All tests passed!</p>\n",
              "    \n",
              "    \n",
              "\n"
            ]
          },
          "metadata": {},
          "execution_count": 101
        }
      ],
      "source": [
        "grader.check_all()"
      ]
    },
    {
      "cell_type": "code",
      "source": [],
      "metadata": {
        "id": "zZCTdxkG9tNz"
      },
      "id": "zZCTdxkG9tNz",
      "execution_count": 101,
      "outputs": []
    }
  ],
  "metadata": {
    "kernelspec": {
      "display_name": "Python 3 (ipykernel)",
      "language": "python",
      "name": "python3"
    },
    "language_info": {
      "codemirror_mode": {
        "name": "ipython",
        "version": 3
      },
      "file_extension": ".py",
      "mimetype": "text/x-python",
      "name": "python",
      "nbconvert_exporter": "python",
      "pygments_lexer": "ipython3",
      "version": "3.8.3"
    },
    "title": "CS236299 Lab 4-1: First-order logic, lambda calculus, semantic parsing",
    "colab": {
      "provenance": []
    }
  },
  "nbformat": 4,
  "nbformat_minor": 5
}